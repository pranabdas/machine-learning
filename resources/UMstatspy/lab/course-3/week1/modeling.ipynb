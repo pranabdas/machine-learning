{
 "cells": [
  {
   "cell_type": "markdown",
   "metadata": {
    "colab_type": "text",
    "id": "QrrxBfeUagWB"
   },
   "source": [
    "## Data Modeling in Python\n",
    "\n",
    "As discussed in week one of this course,  we will be investigating how to develop various statistical models around data.\n",
    "\n",
    "Modeling plays a significant role in data analysis and builds upon fundamental concepts of statistics.  By fitting models to data we are able to accomplish the following:\n",
    "\n",
    "* __Estimate__ distributional properties of variables, potentially conditional on other variables.\n",
    "\n",
    "* Concisely __summarize relationships__ between variables, and make inferential statements about those relationships.\n",
    "\n",
    "* __Predict__ values of variables of interest conditional on values of other predictor varialbes, and characterize prediction uncertainty.\n",
    "\n",
    "With these concepts in mind, we will overview modeling structure and carrying out exploratory data analysis on a dataset that contains information about homes in Boston, MA and how we may want to approach modeling prices of homes.\n",
    "\n",
    "#### Import Libraries & Read in Data\n",
    "\n",
    "To begin, let's import our libraries and dataset."
   ]
  },
  {
   "cell_type": "code",
   "execution_count": null,
   "metadata": {
    "colab": {},
    "colab_type": "code",
    "id": "w6HSQz1gagWD"
   },
   "outputs": [],
   "source": [
    "import warnings\n",
    "warnings.filterwarnings('ignore')\n",
    "\n",
    "import numpy as np\n",
    "import matplotlib.pyplot as plt \n",
    "\n",
    "import pandas as pd  \n",
    "import seaborn as sns \n",
    "\n",
    "%matplotlib inline\n",
    "\n",
    "from sklearn.datasets import load_boston\n",
    "boston_dataset = load_boston() \n",
    "\n",
    "boston = pd.DataFrame(data=boston_dataset.data, columns=boston_dataset.feature_names)\n",
    "\n",
    "boston[\"MEDV\"] = boston_dataset.target"
   ]
  },
  {
   "cell_type": "markdown",
   "metadata": {
    "colab_type": "text",
    "id": "0LNbB_USagWG"
   },
   "source": [
    "#### Investigate Dataset\n",
    "\n",
    "Now that we have loaded our dataset, let's get a feel for what data our data looks like:"
   ]
  },
  {
   "cell_type": "code",
   "execution_count": null,
   "metadata": {
    "colab": {},
    "colab_type": "code",
    "id": "nlcCMVxQagWI",
    "outputId": "71cd3d39-76d8-4fb6-835d-dc8a3e0171b3"
   },
   "outputs": [],
   "source": [
    "boston.shape"
   ]
  },
  {
   "cell_type": "markdown",
   "metadata": {
    "colab_type": "text",
    "id": "NJsUgLlQagWN"
   },
   "source": [
    "Based on the above output, we have 506 observations and 14 columns.  To get a better sense of the data, let's print column names:"
   ]
  },
  {
   "cell_type": "code",
   "execution_count": null,
   "metadata": {
    "colab": {},
    "colab_type": "code",
    "id": "FsNsG8-4agWO",
    "outputId": "fabebf75-77f5-4e19-8ea5-4501344c9002"
   },
   "outputs": [],
   "source": [
    "boston.columns"
   ]
  },
  {
   "cell_type": "markdown",
   "metadata": {
    "colab_type": "text",
    "id": "A3lDT48MagWR"
   },
   "source": [
    "Now that we've seen our various columns, lets take a look at what each column represents:\n",
    "\n",
    "* __CRIM:__ Per capita crime rate by town\n",
    "* __ZN:__ Proportion of residential land zoned for lots over 25,000 sq. ft\n",
    "* __INDUS:__ Proportion of non-retail business acres per town\n",
    "* __CHAS:__ Charles River dummy variable (= 1 if tract bounds river; 0 otherwise)\n",
    "* __NOX:__ Nitric oxide concentration (parts per 10 million)\n",
    "* __RM:__ Average number of rooms per dwelling\n",
    "* __AGE:__ Proportion of owner-occupied units built prior to 1940\n",
    "* __DIS:__ Weighted distances to five Boston employment centers\n",
    "* __RAD:__ Index of accessibility to radial highways\n",
    "* __TAX:__ Full-value property tax rate per $\\$10,000$\n",
    "* __PTRATIO:__ Pupil-teacher ratio by town\n",
    "* __B:___ $1000(Bk — 0.63)^2$, where Bk is the proportion of [people of African American descent] by town\n",
    "* __LSTAT:__ Percentage of lower status of the population\n",
    "* __MEDV:__ Median value of owner-occupied homes in $\\$1000$s\n",
    "\n",
    "Here's a view of the first five rows of our dataframe:"
   ]
  },
  {
   "cell_type": "code",
   "execution_count": null,
   "metadata": {
    "colab": {},
    "colab_type": "code",
    "id": "jB8f5GVtagWR",
    "outputId": "e366d69e-a946-4f60-e6d9-4984a9c12b35"
   },
   "outputs": [],
   "source": [
    "boston.head()"
   ]
  },
  {
   "cell_type": "markdown",
   "metadata": {
    "colab_type": "text",
    "id": "5rP8f3IzagWU"
   },
   "source": [
    "#### Handle Missing Data\n",
    "\n",
    "Before we get started and discuss how to approach a modeling problem, it's good practice to observe our data thoroughly to identify missing values and handle them accordingly:"
   ]
  },
  {
   "cell_type": "code",
   "execution_count": null,
   "metadata": {
    "colab": {},
    "colab_type": "code",
    "id": "WqtOXE36agWV",
    "outputId": "ee84c939-6626-4df5-d361-3616d2c51bce"
   },
   "outputs": [],
   "source": [
    "boston.isnull().sum()"
   ]
  },
  {
   "cell_type": "markdown",
   "metadata": {
    "colab_type": "text",
    "id": "ud0WDTQNagWZ"
   },
   "source": [
    "Fortunately, our output indicates that none of our columns contain missing values so we are able to continue on."
   ]
  },
  {
   "cell_type": "markdown",
   "metadata": {
    "colab_type": "text",
    "id": "fQD2Oj0YagWb"
   },
   "source": [
    "#### Modeling Structure\n",
    "\n",
    "Given the information above of the Boston dataset above, let's consider an interesting modeling problem.  When a consumer is looking to buy a house, its good practice to cross-examine the price of a potential home with the going rate of the market to ensure you aren't overpaying.  Modeling this data would enable a consumer to ensure a home is within the ballpark price range of similar homes in the area.\n",
    "\n",
    "Now, before we begin, let's discuss the standard structure of our model.  As discussed in lecture, models have two primary characteristics,  Dependent Variables (DVs) and Independent Variables (IVs):\n",
    "\n",
    "![DVs%20and%20IVs.png](img/dvs_ivs.png)\n",
    "\n",
    "Since we are building a model to determine the estimated price of a home, our __dependent variable__ in the case of the Boston dataset is __MEDV__, which is the median value of owner-occupied homes in $\\$1000$s.\n",
    "\n",
    "Next, we define our independent variables or predictors.  Predictors are typically chosen based on their perceived relationship to our primary variable on interest, or price of home.  For example,  our gut instinct tells us that the number of rooms (variable __RM__ in our dataset) would greatly impact the price of a home becasue it implies more square-footage.  Additionally, we may want to consider crime rate (variable __CRIM__ in our dataset) as a proxy for the quality of the neighboorhood the home resides in.  \n",
    "\n",
    "Our initial intepretation of these independent variables suggests that __RM__ has a positive correlation with __MEDV__ and __CRIM__ has a negative correlation with __MEDV__.\n",
    "\n",
    "While our initial assumptions about our data and our instincts with respect to correlation between our target variable and predictors may be true, we must carry out some exploratory analysis to confirm these assumptions and/or unravel new findings.\n",
    "\n",
    "#### Exploratory Data Analysis"
   ]
  },
  {
   "cell_type": "code",
   "execution_count": null,
   "metadata": {
    "colab": {},
    "colab_type": "code",
    "id": "9IC6z622agWc",
    "outputId": "695c43d5-27af-43b9-c4dc-1f681e4c8859"
   },
   "outputs": [],
   "source": [
    "sns.set(rc={'figure.figsize':(11.7,8.27)})\n",
    "sns.distplot(boston[\"MEDV\"], bins = 25)\n",
    "plt.show()"
   ]
  },
  {
   "cell_type": "markdown",
   "metadata": {
    "colab_type": "text",
    "id": "u7brflMWagWf"
   },
   "source": [
    "As you can see, our target variable __MEDV__ follows a normal distribution. However, there are outliers near the upper quantiles.\n",
    "\n",
    "One of the most important steps in modeling is understanding the relationship our variables have with each other.  A relationship between two variables is also denoted as correlation is statistics.  A figure known as a correlation matrix, can be used to measure the linear relationships between variables."
   ]
  },
  {
   "cell_type": "code",
   "execution_count": null,
   "metadata": {
    "colab": {},
    "colab_type": "code",
    "id": "M9AneftcagWg",
    "outputId": "3b36bc70-2b04-4f3a-d560-ab1191155932"
   },
   "outputs": [],
   "source": [
    "correlation_matrix = boston.corr().round(2)\n",
    "\n",
    "sns.set(rc={'figure.figsize':(11.7,8.27)})\n",
    "sns.heatmap(data=correlation_matrix, annot=True)\n",
    "plt.show()"
   ]
  },
  {
   "cell_type": "markdown",
   "metadata": {
    "colab_type": "text",
    "id": "jxHnmHWsagWj"
   },
   "source": [
    "Correlation coefficients range from -1 to 1, which determines the strength of correlation.  Values close to 1 signify a strong positive relationship, whereas values close to -1 indicate a strong negative relationship.\n",
    "\n",
    "With this heatmap, we can see corellation coefficients for each of our potential predictors values and __MEDV__, our target values.  Interestingly, our initial gut instincts of __RM__ and __CRIM__.  __RM's__ coefficient is 0.7, and __CRIM's__ is -0.39, signifying a postive and negative relationship as suggested.\n",
    "\n",
    "To further investigate individual individual predictors, we can plot their values against the value of __MEDV__.  This with allow us to infer whether or not the relationship is linear, or if further transformations are required."
   ]
  },
  {
   "cell_type": "code",
   "execution_count": null,
   "metadata": {
    "colab": {},
    "colab_type": "code",
    "id": "bgBYPm01agWl",
    "outputId": "84d0fb89-287c-46b0-a1d8-33fa4ea562f3"
   },
   "outputs": [],
   "source": [
    "plt.figure(figsize=(20, 5))\n",
    "\n",
    "features = ['RM', 'CRIM']\n",
    "target = boston['MEDV']\n",
    "\n",
    "for i, col in enumerate(features):\n",
    "    plt.subplot(1, len(features) , i+1)\n",
    "    x = boston[col]\n",
    "    y = target\n",
    "    plt.scatter(x, y, marker='o')\n",
    "    plt.title(col)\n",
    "    plt.xlabel(col)\n",
    "    plt.ylabel('MEDV')"
   ]
  },
  {
   "cell_type": "markdown",
   "metadata": {
    "colab_type": "text",
    "id": "fTnOi638agWo"
   },
   "source": [
    "Here we can see that our relationship between __RM__ and __MEDV__ is very linear which suggests we do not need to do any further manipulation of our data.  However, our plot of __CRIM__ and __MEDV__ is extremely skewed.  Notice that there little separation between our __CRIM__ values.  There is a cluster of values between 0 and 20.\n",
    "\n",
    "When thinking about linear models, we can do transformations that manipulate our data so that our variables have stronger linear relationships.  \n",
    "\n",
    "One common transformation is the __log transformation__, which _stretches_ our values out.  This can be shown below:"
   ]
  },
  {
   "cell_type": "code",
   "execution_count": null,
   "metadata": {
    "colab": {},
    "colab_type": "code",
    "id": "5VL0LM_LagWo",
    "outputId": "3cd1719a-295a-47ca-fe89-1a4498f95dc6"
   },
   "outputs": [],
   "source": [
    "plt.figure(figsize=(20, 5))\n",
    "\n",
    "boston[\"logCRIM\"] = np.log(boston[\"CRIM\"])\n",
    "\n",
    "features = ['CRIM', 'logCRIM']\n",
    "target = boston['MEDV']\n",
    "\n",
    "for i, col in enumerate(features):\n",
    "    plt.subplot(1, len(features) , i+1)\n",
    "    x = boston[col]\n",
    "    y = target\n",
    "    plt.scatter(x, y, marker='o')\n",
    "    plt.title(col)\n",
    "    plt.xlabel(col)\n",
    "    plt.ylabel('MEDV')"
   ]
  },
  {
   "cell_type": "markdown",
   "metadata": {
    "colab_type": "text",
    "id": "Qt4ID21NagWs"
   },
   "source": [
    "The plots above show a before and after where the log transformation is applied to __CRIM__.  On the righthand side, we can see that there is a drastic difference in the separation of our values and the negative linear correlation between __MEDV__ and __logCRIM__ is more apparent than between __MEDV__ and __CRIM__ (without the log transformation).\n",
    "\n",
    "Now that we have identified some potential predictors for our model and have throughly investigated their relationship with our target variable, we can begin constructing a model, however thats going to be all for this notebook.  These topics will be discussed in more detail in the coming weeks and you will have the opportunity to read case studies and practice developing models on your own in python!\n",
    "\n",
    "If you have some extra time this week and would like to practice, feel free to use this notebook as a template for carrying out your own exploratory analysis on a dataset of your choice.  \n",
    "\n",
    "Getting in the mindset of exploring data and visualizing relationships between variables will pay dividends for the rest of the course as we delve further into fitting statistical models to data with python!"
   ]
  }
 ],
 "metadata": {
  "colab": {
   "collapsed_sections": [],
   "name": "Getting Started with Modeling in Python.ipynb",
   "provenance": [],
   "version": "0.3.2"
  },
  "kernelspec": {
   "display_name": "Python 3",
   "language": "python",
   "name": "python3"
  },
  "language_info": {
   "codemirror_mode": {
    "name": "ipython",
    "version": 3
   },
   "file_extension": ".py",
   "mimetype": "text/x-python",
   "name": "python",
   "nbconvert_exporter": "python",
   "pygments_lexer": "ipython3",
   "version": "3.6.3"
  }
 },
 "nbformat": 4,
 "nbformat_minor": 1
}
