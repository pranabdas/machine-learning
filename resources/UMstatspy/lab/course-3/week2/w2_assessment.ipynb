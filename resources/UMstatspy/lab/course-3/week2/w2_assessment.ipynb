{
 "cells": [
  {
   "cell_type": "markdown",
   "metadata": {
    "colab_type": "text",
    "id": "FtUpdT75hF-f"
   },
   "source": [
    "# Week 2 Python Assessment\n",
    "\n",
    "This Jupyter Notebook is auxillary to the following assessment in this week.  To complete this assessment, you will complete the 7 questions outlined in this document and use the output from your python cells as answers.\n",
    "\n",
    "Your goal of this assignment is to construct regression and logistics models and interpret model paramters.\n",
    "\n",
    "Run the following cell to initialize your environment and begin the assessment."
   ]
  },
  {
   "cell_type": "code",
   "execution_count": 0,
   "metadata": {
    "colab": {},
    "colab_type": "code",
    "id": "9DTd5WWihF-h"
   },
   "outputs": [],
   "source": [
    "#### RUN THIS\n",
    "\n",
    "import warnings\n",
    "warnings.filterwarnings('ignore')\n",
    "\n",
    "import numpy as np\n",
    "import statsmodels.api as sm\n",
    "import pandas as pd  \n",
    "\n",
    "from sklearn.datasets import load_boston\n",
    "boston_dataset = load_boston() \n",
    "\n",
    "boston = pd.DataFrame(data=boston_dataset.data, columns=boston_dataset.feature_names)\n",
    "boston[\"MEDV\"] = boston_dataset.target\n",
    "\n",
    "url = \"nhanes_2015_2016.csv\"\n",
    "NHANES = pd.read_csv(url)\n",
    "vars = [\"BPXSY1\", \"RIDAGEYR\", \"RIAGENDR\", \"RIDRETH1\", \"DMDEDUC2\", \"BMXBMI\", \"SMQ020\"]\n",
    "NHANES = NHANES[vars].dropna()\n",
    "NHANES[\"smq\"] = NHANES.SMQ020.replace({2: 0, 7: np.nan, 9: np.nan})\n",
    "NHANES[\"RIAGENDRx\"] = NHANES.RIAGENDR.replace({1: \"Male\", 2: \"Female\"})\n",
    "NHANES[\"DMDEDUC2x\"] = NHANES.DMDEDUC2.replace({1: \"lt9\", 2: \"x9_11\", 3: \"HS\", 4: \"SomeCollege\",5: \"College\", 7: np.nan, 9: np.nan})\n",
    "\n",
    "np.random.seed(123)"
   ]
  },
  {
   "cell_type": "markdown",
   "metadata": {
    "colab_type": "text",
    "id": "1aBNhueShF-l"
   },
   "source": [
    "Now that your notebook is ready, begin answering the questions below.\n",
    "\n",
    "### Questions 1-3\n",
    "\n",
    "The first three questions will be utilizing the Boston housing dataset seen in week 1. \n",
    "\n",
    "Here is the description for each column:\n",
    "\n",
    "* __CRIM:__ Per capita crime rate by town\n",
    "* __ZN:__ Proportion of residential land zoned for lots over 25,000 sq. ft\n",
    "* __INDUS:__ Proportion of non-retail business acres per town\n",
    "* __CHAS:__ Charles River dummy variable (= 1 if tract bounds river; 0 otherwise)\n",
    "* __NOX:__ Nitric oxide concentration (parts per 10 million)\n",
    "* __RM:__ Average number of rooms per dwelling\n",
    "* __AGE:__ Proportion of owner-occupied units built prior to 1940\n",
    "* __DIS:__ Weighted distances to five Boston employment centers\n",
    "* __RAD:__ Index of accessibility to radial highways\n",
    "* __TAX:__ Full-value property tax rate per $\\$10,000$\n",
    "* __PTRATIO:__ Pupil-teacher ratio by town\n",
    "* __B:__ $1000(Bk — 0.63)^2$, where Bk is the proportion of [people of African American descent] by town\n",
    "* __LSTAT:__ Percentage of lower status of the population\n",
    "* __MEDV:__ Median value of owner-occupied homes in $\\$1000$s\n",
    "\n",
    "Uncomment and run the following code to generate a simple linear regression and output the model summary:"
   ]
  },
  {
   "cell_type": "code",
   "execution_count": 0,
   "metadata": {
    "colab": {},
    "colab_type": "code",
    "id": "23CDPyFThF-m"
   },
   "outputs": [],
   "source": [
    "#model = sm.OLS.from_formula(\"MEDV ~ RM + CRIM\", data=boston)\n",
    "#result = model.fit()\n",
    "#result.summary()"
   ]
  },
  {
   "cell_type": "markdown",
   "metadata": {
    "colab_type": "text",
    "id": "P5P1CZ6XhF-s"
   },
   "source": [
    "Utilizing the above output, answer the following three questions:\n",
    "\n",
    "#### Question 1 (You'll answer this question within the quiz that follows this notebook)\n",
    "\n",
    "What is the value of the coefficient for predictor __RM__?\n",
    "\n",
    "#### Question 2 (You'll answer this question within the quiz that follows this notebook)\n",
    "\n",
    "Are the predictors for this model statistically significant, yes or no? (Hint: What are their p-values?)\n",
    "\n",
    "Run the following code for question 3:"
   ]
  },
  {
   "cell_type": "code",
   "execution_count": 0,
   "metadata": {
    "colab": {},
    "colab_type": "code",
    "id": "180gD-NbhF-s"
   },
   "outputs": [],
   "source": [
    "## For Question 3\n",
    "model = sm.OLS.from_formula(\"MEDV ~ RM + CRIM + LSTAT\", data=boston)\n",
    "result = model.fit()\n",
    "result.summary()"
   ]
  },
  {
   "cell_type": "markdown",
   "metadata": {
    "colab_type": "text",
    "id": "AsKVaRKkhF-v"
   },
   "source": [
    "#### Question 3 (You'll answer this question within the quiz that follows this notebook)\n",
    "\n",
    "What happened to our R-Squared value when we added the third predictor __LSTAT__ to our initial model?\n",
    "  \n",
    "\n",
    "#### Question 4 (You'll answer this question within the quiz that follows this notebook)\n",
    "\n",
    "What type of model should we use when our target outcome, or dependent variable is continuous?"
   ]
  },
  {
   "cell_type": "markdown",
   "metadata": {
    "colab_type": "text",
    "id": "zVe5LDXahF-x"
   },
   "source": [
    "### Questions 5-6\n",
    "\n",
    "The next two questions will involve the NHANES dataset.\n",
    "\n",
    "Uncomment and run the following code to generate a logistics regression and output the model summary:"
   ]
  },
  {
   "cell_type": "code",
   "execution_count": 0,
   "metadata": {
    "colab": {},
    "colab_type": "code",
    "id": "5So50jbZhF-x"
   },
   "outputs": [],
   "source": [
    "#model = sm.GLM.from_formula(\"smq ~ RIAGENDRx + RIDAGEYR + DMDEDUC2x\", family=sm.families.Binomial(), data=NHANES)\n",
    "#result = model.fit()\n",
    "#result.summary()"
   ]
  },
  {
   "cell_type": "markdown",
   "metadata": {
    "colab_type": "text",
    "id": "_T3X6HbUhF-1"
   },
   "source": [
    "#### Question 5 (You'll answer this question within the quiz that follows this notebook)\n",
    "\n",
    "Which of our predictors has the largest coefficient?\n",
    "\n",
    "\n",
    "#### Question 6 (You'll answer this question within the quiz that follows this notebook)\n",
    "\n",
    "Which values for DMDEDUC2x and RIAGENDRx are represented in our intercept, or what is our reference level?\n",
    "\n",
    "\n",
    "#### Question 7 (You'll answer this question within the quiz that follows this notebook)\n",
    "\n",
    "What model should we use when our target outcome, or dependent variable is binary, or only has two outputs, 0 and 1.\n"
   ]
  }
 ],
 "metadata": {
  "colab": {
   "collapsed_sections": [],
   "name": "w2_assessment.ipynb",
   "provenance": [],
   "version": "0.3.2"
  },
  "kernelspec": {
   "display_name": "Python 3",
   "language": "python",
   "name": "python3"
  },
  "language_info": {
   "codemirror_mode": {
    "name": "ipython",
    "version": 3
   },
   "file_extension": ".py",
   "mimetype": "text/x-python",
   "name": "python",
   "nbconvert_exporter": "python",
   "pygments_lexer": "ipython3",
   "version": "3.6.3"
  }
 },
 "nbformat": 4,
 "nbformat_minor": 1
}
