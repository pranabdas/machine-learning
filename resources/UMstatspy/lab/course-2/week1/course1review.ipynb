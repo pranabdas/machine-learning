{
 "cells": [
  {
   "cell_type": "markdown",
   "metadata": {
    "colab_type": "text",
    "id": "7UyYjcDiDA9y"
   },
   "source": [
    "This notebook will be a short review of key concepts in python. The goal of this notebook is to jog your memory and refresh concepts.  \n",
    "\n",
    "#### Table of contents\n",
    "* Jupyter notebook\n",
    "* Libraries\n",
    "* Plotting\n",
    "* Pandas DataFrame manipulation\n",
    "* Unit testing\n",
    "* Randomness and reproducibility\n",
    "* Bonus: list comprehension"
   ]
  },
  {
   "cell_type": "markdown",
   "metadata": {
    "colab_type": "text",
    "id": "2HNBxH9iDA90"
   },
   "source": [
    "## Jupyter notebook\n",
    "Straight from the [Juptyer website](http://jupyter.org/): \"The Jupyter Notebook is an open-source web application that allows you to create and share documents that contain live code, equations, visualizations and narrative text. Uses include: data cleaning and transformation, numerical simulation, statistical modeling, data visualization, machine learning, and much more.\"  \n",
    "\n",
    "To run code in a cell, you can press the run tab, or press control + enter. The 'Kernel' tab is quite useful. If you find your code is stuck running (maybe you wrote an infinite loop), you can go to 'Kernel' -> 'Interrupt' to force quit. \n",
    "\n",
    "A few useful keyboard shortcuts:\n",
    "* Run cell, select below: shift + enter\n",
    "* Run cell: ctrl + enter\n",
    "* Run cell, insert below: option + enter\n",
    "\n",
    "By pressing the 'esc' key, you enter command mode (the colored border around the currently selected cell should change from green to blue). Once in command mode, you can use these shortcuts:\n",
    "* Insert cell above: a\n",
    "* Insert cell below: b\n",
    "* Copy cell: c\n",
    "* Paste cell: v\n",
    "* Delete selected cell(s): d d\n",
    "* Change selected cell to markdown: m\n",
    "* Change selected cell to code: y\n",
    "\n",
    "To exit command mode, click anywhere in a cell or press enter.\n",
    "\n",
    "And of course, don't forget the ever useful:\n",
    "* Save file: command + s"
   ]
  },
  {
   "cell_type": "markdown",
   "metadata": {
    "colab_type": "text",
    "id": "zAHeJQIuDA91"
   },
   "source": [
    "## Libraries\n",
    "There are a few libraries that you will use almost always:\n",
    "* Numpy\n",
    "* Pandas\n",
    "* Matplotlib or\n",
    "* Seaborn\n",
    "\n",
    "The key points to remember are how to import these libraries and their standard import names, as well as their main uses. \n",
    "\n",
    "Numpy (from the [Numpy website](http://www.numpy.org/)):  \n",
    "NumPy is the fundamental package for scientific computing with Python. It contains among other things:\n",
    "\n",
    "* a powerful N-dimensional array object\n",
    "* sophisticated (broadcasting) functions\n",
    "* tools for integrating C/C++ and Fortran code\n",
    "* useful linear algebra, Fourier transform, and random number capabilities\n",
    "\n",
    "Pandas (from the [Pandas website](https://pandas.pydata.org/)):  \n",
    "high-performance, easy-to-use data structures and data analysis tools for the Python programming language\n",
    "\n",
    "Both the Matplotlib and Seaborn libraries are for creating graphs. "
   ]
  },
  {
   "cell_type": "code",
   "execution_count": null,
   "metadata": {
    "colab": {},
    "colab_type": "code",
    "id": "XDhCzJAgDA93"
   },
   "outputs": [],
   "source": [
    "import numpy as np\n",
    "import pandas as pd\n",
    "import matplotlib.pyplot as plt\n",
    "import seaborn as sns"
   ]
  },
  {
   "cell_type": "markdown",
   "metadata": {
    "colab_type": "text",
    "id": "AWXNu2LUDA97"
   },
   "source": [
    "## Plotting"
   ]
  },
  {
   "cell_type": "code",
   "execution_count": null,
   "metadata": {
    "colab": {},
    "colab_type": "code",
    "id": "RlLd-AFwDA98"
   },
   "outputs": [],
   "source": [
    "# Load in the data set\n",
    "tips_data = sns.load_dataset(\"tips\")"
   ]
  },
  {
   "cell_type": "markdown",
   "metadata": {
    "colab_type": "text",
    "id": "wqUTo_4zDA9_"
   },
   "source": [
    "### Plot a histogram of the tips"
   ]
  },
  {
   "cell_type": "code",
   "execution_count": null,
   "metadata": {
    "colab": {},
    "colab_type": "code",
    "id": "hJr5vmjWDA-A",
    "outputId": "bd821bbf-a237-4aa2-befc-3d4a80356021"
   },
   "outputs": [],
   "source": [
    "# with seaborn\n",
    "sns.distplot(tips_data[\"tip\"], kde = False, bins=10).set_title(\"Histogram of Total Tip\")\n",
    "plt.show()"
   ]
  },
  {
   "cell_type": "code",
   "execution_count": null,
   "metadata": {
    "colab": {},
    "colab_type": "code",
    "id": "508jTWv8DA-G",
    "outputId": "24fc0ec9-d1b0-4f72-9729-34adc7492f52"
   },
   "outputs": [],
   "source": [
    "# with matplotlib\n",
    "plt.hist(tips_data['tip'], bins=10)\n",
    "plt.title(\"Histogram of Total Tip\")\n",
    "plt.show()"
   ]
  },
  {
   "cell_type": "markdown",
   "metadata": {
    "colab_type": "text",
    "id": "3JOFc8-ZDA-K"
   },
   "source": [
    "### Create a boxplot of the total bill amounts"
   ]
  },
  {
   "cell_type": "code",
   "execution_count": null,
   "metadata": {
    "colab": {},
    "colab_type": "code",
    "id": "GhFztzPUDA-L",
    "outputId": "b3c0e805-e176-4a4b-a2f2-e4d6ab3a379c"
   },
   "outputs": [],
   "source": [
    "# with seaborn\n",
    "sns.boxplot(tips_data[\"total_bill\"]).set_title(\"Box plot of the Total Bill\")\n",
    "plt.show()"
   ]
  },
  {
   "cell_type": "code",
   "execution_count": null,
   "metadata": {
    "colab": {},
    "colab_type": "code",
    "id": "4d0ruBq2DA-Q",
    "outputId": "2f004e83-4d66-4cea-fe39-8e48c097c25f"
   },
   "outputs": [],
   "source": [
    "# with matplotlib\n",
    "plt.boxplot(tips_data[\"total_bill\"])\n",
    "plt.title(\"Box plot of the Total Bill\")\n",
    "plt.show()"
   ]
  },
  {
   "cell_type": "markdown",
   "metadata": {
    "colab_type": "text",
    "id": "zJmj9GItDA-U"
   },
   "source": [
    "## Pandas DataFrame manipulation"
   ]
  },
  {
   "cell_type": "code",
   "execution_count": null,
   "metadata": {
    "colab": {},
    "colab_type": "code",
    "id": "xq_FoVzDDA-V"
   },
   "outputs": [],
   "source": [
    "# Import NHANES 2015-2016 data\n",
    "df = pd.read_csv(\"nhanes_2015_2016.csv\")"
   ]
  },
  {
   "cell_type": "code",
   "execution_count": null,
   "metadata": {
    "colab": {},
    "colab_type": "code",
    "id": "tewPGCuZDA-Z",
    "outputId": "19a83f89-5646-4e13-9bf3-678f62b05ceb"
   },
   "outputs": [],
   "source": [
    "# look at top 3 rows\n",
    "df.head(3)"
   ]
  },
  {
   "cell_type": "markdown",
   "metadata": {
    "colab_type": "text",
    "id": "wz1LNI_2DA-d"
   },
   "source": [
    "#### Pick columns by name"
   ]
  },
  {
   "cell_type": "code",
   "execution_count": null,
   "metadata": {
    "colab": {},
    "colab_type": "code",
    "id": "WqNvrg5qDA-e",
    "outputId": "b045b0d9-e272-4e04-b5c1-98030569fdbd"
   },
   "outputs": [],
   "source": [
    "df['SEQN'].head()"
   ]
  },
  {
   "cell_type": "markdown",
   "metadata": {
    "colab_type": "text",
    "id": "LWWEDWD5DA-i"
   },
   "source": [
    "#### Pick columns and rows by index name"
   ]
  },
  {
   "cell_type": "code",
   "execution_count": null,
   "metadata": {
    "colab": {},
    "colab_type": "code",
    "id": "dsrjsMKLDA-j",
    "outputId": "120de112-a2fa-42a0-f5b2-754a8a043cf6"
   },
   "outputs": [],
   "source": [
    "df.loc[[0, 1], ['SEQN', 'RIAGENDR']]"
   ]
  },
  {
   "cell_type": "markdown",
   "metadata": {
    "colab_type": "text",
    "id": "HUIr4aF3DA-n"
   },
   "source": [
    "#### Pick columns and rows by index location"
   ]
  },
  {
   "cell_type": "code",
   "execution_count": null,
   "metadata": {
    "colab": {},
    "colab_type": "code",
    "id": "6yGgrqRbDA-o",
    "outputId": "945c04ce-caa4-4a37-870a-d085540ccd1e"
   },
   "outputs": [],
   "source": [
    "df.iloc[[1,2], [0,5]]"
   ]
  },
  {
   "cell_type": "markdown",
   "metadata": {
    "colab_type": "text",
    "id": "7Gx9yypFDA-r"
   },
   "source": [
    "## Unit testing\n",
    "This is the idea that you should run complicated code on a simple test case that you know that outcome of. If your code outputs something you did not expect, then you know there is an error somewhere that must be fixed. When working with large datasets, it is easy to get reasonable output that is actually measuring something different than you wanted. "
   ]
  },
  {
   "cell_type": "markdown",
   "metadata": {
    "colab_type": "text",
    "id": "2ch01D1uDA-t"
   },
   "source": [
    "### Example\n",
    "Perhaps you want the mean of the first row."
   ]
  },
  {
   "cell_type": "code",
   "execution_count": null,
   "metadata": {
    "colab": {},
    "colab_type": "code",
    "id": "xsBNEGz9DA-v",
    "outputId": "0d53dab8-e211-4916-f12d-a4918ee58aa5"
   },
   "outputs": [],
   "source": [
    "df = pd.DataFrame({'col1':[1, 2, 3], 'col2':[3, 4, 5]})\n",
    "df"
   ]
  },
  {
   "cell_type": "code",
   "execution_count": null,
   "metadata": {
    "colab": {},
    "colab_type": "code",
    "id": "SJbXIevGDA-1",
    "outputId": "9e2b4cff-ef63-455d-ad9a-9fa7095794ce"
   },
   "outputs": [],
   "source": [
    "df.mean()[0]"
   ]
  },
  {
   "cell_type": "markdown",
   "metadata": {
    "colab_type": "text",
    "id": "H6kabQqoDA--"
   },
   "source": [
    "This looks correct, but lets on a DataFrame that doesn't have the same mean for the first row and the first column."
   ]
  },
  {
   "cell_type": "code",
   "execution_count": null,
   "metadata": {
    "colab": {},
    "colab_type": "code",
    "id": "2bo3-7HLDA_A",
    "outputId": "a30f0409-fe2f-422d-95b8-571a305f8345"
   },
   "outputs": [],
   "source": [
    "df = pd.DataFrame({'col1':[1, 2, 3], 'col2':[6, 7, 8]})\n",
    "df"
   ]
  },
  {
   "cell_type": "code",
   "execution_count": null,
   "metadata": {
    "colab": {},
    "colab_type": "code",
    "id": "cqxFEtqlDA_F",
    "outputId": "08581d10-6e5b-41ac-d90b-56dc3b9850b8"
   },
   "outputs": [],
   "source": [
    "df.mean()[0]"
   ]
  },
  {
   "cell_type": "markdown",
   "metadata": {
    "colab_type": "text",
    "id": "Hz9kI1GnDA_K"
   },
   "source": [
    "Looks like this is actually returning the mean of the first column. Doing a simple test, we found an error that would have been much harder to spot had our DataFrame been 100,000 rows and 300 columns. "
   ]
  },
  {
   "cell_type": "code",
   "execution_count": null,
   "metadata": {
    "colab": {},
    "colab_type": "code",
    "id": "uj6f3z6XDA_K",
    "outputId": "e2a0cfde-245a-4f94-f078-38fd26abb34c"
   },
   "outputs": [],
   "source": [
    "# Use the argument 'axis=1' to return the means of each row in the dataframe\n",
    "# Use 'axis=0' (which is the default) to return the means of each column in the dataframe\n",
    "# The Pandas .mean() method returns a series which can be accessed by a bracketed index value\n",
    "print(df.mean(axis=1))\n",
    "print(\"\\n\")\n",
    "print(type(df.mean(axis=1)))\n",
    "print(\"\\n\")\n",
    "print(df.mean(axis=0))\n",
    "print(\"\\n\")\n",
    "print(df.mean(axis=1)[2])\n",
    "print(\"\\n\")\n",
    "print(df.mean(axis=0)[1])"
   ]
  },
  {
   "cell_type": "markdown",
   "metadata": {
    "colab_type": "text",
    "id": "ZDKYf9ovDA_O"
   },
   "source": [
    "## Randomness and reproducibility\n",
    "\n",
    "In Python, we refer to randomness as the ability to generate data, strings, or, more generally, numbers at random.\n",
    "\n",
    "However, when conducting analysis it is important to consider reproducibility. If we are creating random data, how can we enable reproducible analysis?\n",
    "\n",
    "We do this by utilizing pseudo-random number generators (PRNGs). PRNGs start with a random number, known as the seed, and then use an algorithm to generate a psuedo-random sequence based on it.\n",
    "\n",
    "This means that we can replicate the output of a random number generator in python simply by knowing which seed was used.\n",
    "\n",
    "We can showcase this by using the functions in the python library random."
   ]
  },
  {
   "cell_type": "code",
   "execution_count": null,
   "metadata": {
    "colab": {},
    "colab_type": "code",
    "id": "foZecAKgDA_Q"
   },
   "outputs": [],
   "source": [
    "import random"
   ]
  },
  {
   "cell_type": "code",
   "execution_count": null,
   "metadata": {
    "colab": {},
    "colab_type": "code",
    "id": "qmmmvzxUDA_V",
    "outputId": "2910223b-4c5c-4ba4-c328-708b9b770574"
   },
   "outputs": [],
   "source": [
    "random.seed(1234)\n",
    "random.random()"
   ]
  },
  {
   "cell_type": "code",
   "execution_count": null,
   "metadata": {
    "colab": {},
    "colab_type": "code",
    "id": "4BOrlPwiDA_a",
    "outputId": "7ba80db3-a3a8-40fb-a58f-3b5c614e62ad"
   },
   "outputs": [],
   "source": [
    "random.seed(1234)\n",
    "random.random()"
   ]
  },
  {
   "cell_type": "markdown",
   "metadata": {
    "colab_type": "text",
    "id": "If-J8eKyDA_d"
   },
   "source": [
    "The random library includes standard distributions that may come in handy"
   ]
  },
  {
   "cell_type": "code",
   "execution_count": null,
   "metadata": {
    "colab": {},
    "colab_type": "code",
    "id": "pFUMdWz5DA_f",
    "outputId": "73a12552-a79e-4781-90fe-e927f51a974e"
   },
   "outputs": [],
   "source": [
    "# Uniform distribution\n",
    "random.uniform(25,50)"
   ]
  },
  {
   "cell_type": "code",
   "execution_count": null,
   "metadata": {
    "colab": {},
    "colab_type": "code",
    "id": "UZNR9xkXDA_h",
    "outputId": "f1dd07b2-2987-4a67-8168-559254bbb43c"
   },
   "outputs": [],
   "source": [
    "mu = 0\n",
    "\n",
    "sigma = 1\n",
    "\n",
    "random.normalvariate(mu, sigma)"
   ]
  },
  {
   "cell_type": "markdown",
   "metadata": {
    "colab_type": "text",
    "id": "A00FhLUkDA_k"
   },
   "source": [
    "## List comprehension\n",
    "List comprehensions allow you to easy create lists. They follow the format:\n",
    "```\n",
    "my_list = [expression(i) for i in input list]\n",
    "```\n",
    "For example, if you wanted to plot the sin curve from -$\\pi$ to $\\pi$:"
   ]
  },
  {
   "cell_type": "code",
   "execution_count": null,
   "metadata": {
    "colab": {},
    "colab_type": "code",
    "id": "wLiFMlLyDA_o",
    "outputId": "42af1edb-e926-46a3-a914-86dc4509751c"
   },
   "outputs": [],
   "source": [
    "x = np.linspace(-np.pi, np.pi, 100) # create a list of 100 equally spaced points between -pi and pi\n",
    "x"
   ]
  },
  {
   "cell_type": "code",
   "execution_count": null,
   "metadata": {
    "colab": {},
    "colab_type": "code",
    "id": "h3cIjC_rDA_s",
    "outputId": "7eba57e5-a968-4632-eabf-e541d69ac672"
   },
   "outputs": [],
   "source": [
    "# Here's our list comprehension. For each point in x, we want y=sin(x)\n",
    "y = [np.sin(value) for value in x] \n",
    "# let looks at just the first 5 elements of y\n",
    "y[:5]"
   ]
  },
  {
   "cell_type": "code",
   "execution_count": null,
   "metadata": {
    "colab": {},
    "colab_type": "code",
    "id": "joj-RymiDA_w",
    "outputId": "90891107-5835-4677-a059-6ef02f240938"
   },
   "outputs": [],
   "source": [
    "# It doesn't really matter what word you use to represent a value in the input list, \n",
    "# the following will built the same y\n",
    "y = [np.sin(i) for i in x]\n",
    "y[:5]"
   ]
  },
  {
   "cell_type": "code",
   "execution_count": null,
   "metadata": {
    "colab": {},
    "colab_type": "code",
    "id": "26sMLE-bDA_1",
    "outputId": "4f9b9f44-8dc5-4758-b507-7e86f7458eac"
   },
   "outputs": [],
   "source": [
    "plt.plot(x,y)\n",
    "plt.show()"
   ]
  }
 ],
 "metadata": {
  "colab": {
   "collapsed_sections": [],
   "name": "Review of python key concepts.ipynb",
   "provenance": [],
   "version": "0.3.2"
  },
  "kernelspec": {
   "display_name": "Python 3",
   "language": "python",
   "name": "python3"
  },
  "language_info": {
   "codemirror_mode": {
    "name": "ipython",
    "version": 3
   },
   "file_extension": ".py",
   "mimetype": "text/x-python",
   "name": "python",
   "nbconvert_exporter": "python",
   "pygments_lexer": "ipython3",
   "version": "3.6.3"
  }
 },
 "nbformat": 4,
 "nbformat_minor": 1
}
