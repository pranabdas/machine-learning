{
 "cells": [
  {
   "cell_type": "code",
   "execution_count": null,
   "metadata": {},
   "outputs": [],
   "source": [
    "import numpy as np\n",
    "import pandas as pd\n",
    "import matplotlib.pyplot as plt\n",
    "%matplotlib inline"
   ]
  },
  {
   "cell_type": "markdown",
   "metadata": {},
   "source": [
    "## Functions, lambda functions, and reading help documents"
   ]
  },
  {
   "cell_type": "markdown",
   "metadata": {},
   "source": [
    "We are going to introduce a few more python concepts. If you've been working through the NHANES example notebooks, you will have seen these in use already. There is a lot to say about these new concepts, but we will only be giving a brief introduction to each. For more information, follow the links provided or do your own search for the many great resources available on the web.  "
   ]
  },
  {
   "cell_type": "markdown",
   "metadata": {},
   "source": [
    "### Functions\n",
    "\n",
    "If you use a snippet of code multiple times, it is best practice to put that code into a function instead of copying and pasting it. For example, if you wanted several of the same plots with different data, you could create a function that returns that style of plot for arbitrary (though with correct dimension and type) data. \n",
    "\n",
    "In Python, indentation is very important. If done incorrectly, your code will not run and instead will give an error. When defining a function, all code after the ':' must be indented properly. The indentation conveys the scope of the code. [Some further explanation](https://docs.python.org/2.0/ref/indentation.html).\n",
    "```\n",
    "def function_name(arguments):\n",
    "    \"\"\"\n",
    "    Header comment: brief description of what this function does\n",
    "    \n",
    "    Args:\n",
    "        obj: input for this function\n",
    "    Returns:\n",
    "        out: the output of this function\n",
    "    \"\"\"\n",
    "    \n",
    "    some code\n",
    "    \n",
    "    return out \n",
    " ```\n",
    " \n",
    " Exactly how to structure the header comments is up to you if you work alone, or will likely be specified if working for an established company. \n",
    " \n",
    "Function names should start with a lower case letter (they cannot start with a number), and can be in camelCase or snake_case.\n",
    "\n",
    "If your function returns a variable, you use 'return' to specify that variable. A function doesn't always have to return something though. For example, you could have a function that creates a plot and then saves it in the current directory. "
   ]
  },
  {
   "cell_type": "code",
   "execution_count": null,
   "metadata": {},
   "outputs": [],
   "source": [
    "def sum_x_y(x, y): # don't need comments if immediately clear what the function does\n",
    "    out = x + y\n",
    "    return out\n",
    "\n",
    "sum_x_y(4, 6)"
   ]
  },
  {
   "cell_type": "code",
   "execution_count": null,
   "metadata": {},
   "outputs": [],
   "source": [
    "def get_max(x):\n",
    "    current_max = x[0]\n",
    "    for i in x[1:]:\n",
    "        if i > current_max:\n",
    "            current_max = i\n",
    "    return current_max"
   ]
  },
  {
   "cell_type": "code",
   "execution_count": null,
   "metadata": {},
   "outputs": [],
   "source": [
    "get_max(np.random.choice(400, 100)) \n",
    "# np.random.choice(400, 100) will randomly choose 100 integers between 0 and 400       "
   ]
  },
  {
   "cell_type": "markdown",
   "metadata": {},
   "source": [
    "There is a lot more to be said about functions that we don't have time to cover in this course, so I leave you with examples of [common gotchas](https://docs.python-guide.org/writing/gotchas/) that you may run into."
   ]
  },
  {
   "cell_type": "markdown",
   "metadata": {},
   "source": [
    "### lambda functions\n",
    "\n",
    "There are also know as anonymous functions because they are unnamed. This function can have any number of arguments but only one expression. Lambda functions, unlike defined functions, always return a variable.\n",
    "The format of a lambda function is  \n",
    "```\n",
    "lambda arguments: expression  \n",
    "```\n",
    "\n",
    "They can look similar to a mathematical expression for evauating a function.  \n",
    "For example:\n",
    "```\n",
    "(lambda x: x**2)(3)\n",
    "```\n",
    "Is the same as mathmatically writing  \n",
    "$f(x) = x^2$ an then evauluating the function $f$ at $x=3$,  \n",
    "$f(3) = 9$"
   ]
  },
  {
   "cell_type": "code",
   "execution_count": null,
   "metadata": {},
   "outputs": [],
   "source": [
    "(lambda x: x**2)(3)"
   ]
  },
  {
   "cell_type": "markdown",
   "metadata": {},
   "source": [
    "Another way to use a lambda function is to store it in a variable like in the example below."
   ]
  },
  {
   "cell_type": "code",
   "execution_count": null,
   "metadata": {},
   "outputs": [],
   "source": [
    "f = lambda x: np.sin(x)\n",
    "x = np.linspace(-np.pi, np.pi, 100)\n",
    "y = [f(i) for i in x]\n",
    "plt.plot(x, y)\n",
    "plt.show\n",
    "# we could have made this several ways, can you think of another?"
   ]
  },
  {
   "cell_type": "markdown",
   "metadata": {},
   "source": [
    "You shouldn't come across many (if any) cases where you would have to use a lambda function, but we present them briefly here so that you can regonize them in the wild. "
   ]
  },
  {
   "cell_type": "markdown",
   "metadata": {},
   "source": [
    "### Reading help documentation\n",
    "A key skill in being a successful programmer is being able to read the documentation for a function and understand what that functions does and what the arguments are. \n",
    "\n",
    "To get the documentation, use the help function. First, let's call the help function on help, to see what is does:"
   ]
  },
  {
   "cell_type": "code",
   "execution_count": null,
   "metadata": {},
   "outputs": [],
   "source": [
    "help(help)"
   ]
  },
  {
   "cell_type": "markdown",
   "metadata": {},
   "source": [
    "We can see that calling help(thing) will print the documentation for 'thing'. Generally, this documentation will first list the function with its arguments (also called parameters), showing what the default arguments are. Then, it will list these arguments (parameters) and specify what they are and their type. Then it will documents what the function returns, errors it may raise, and possibly other documentation as necessary. Often, the bottom of the document will contain examples.\n",
    "\n",
    "Let's look at another example, the pandas drop function. This is used to drop rows or columns from a DataFrame. If you had a DataFrame call 'my_df', you would call this function by\n",
    "```\n",
    "my_df.drop(some arguments)\n",
    "```\n",
    "Unfortunately, we cannot simply call \n",
    "```\n",
    "help(drop)\n",
    "```\n",
    "because drop is not a function in base python. Instead, we must call\n",
    "```\n",
    "help(pd.DataFrame.drop)\n",
    "```\n",
    "because we need to specify that this is from pandas library (pd) and is applied to a DataFrame. If you're wondering why I'm capitalizing DataFrame as such, it is because that is a data type in the python pandas library. Without the capitalization, it had no meaning. "
   ]
  },
  {
   "cell_type": "code",
   "execution_count": null,
   "metadata": {},
   "outputs": [],
   "source": [
    "help(pd.DataFrame.drop)"
   ]
  },
  {
   "cell_type": "markdown",
   "metadata": {},
   "source": [
    "If you wanted to drop the column 'this one' from the DataFrame 'my_df', how would you do it?"
   ]
  }
 ],
 "metadata": {
  "kernelspec": {
   "display_name": "Python 3",
   "language": "python",
   "name": "python3"
  },
  "language_info": {
   "codemirror_mode": {
    "name": "ipython",
    "version": 3
   },
   "file_extension": ".py",
   "mimetype": "text/x-python",
   "name": "python",
   "nbconvert_exporter": "python",
   "pygments_lexer": "ipython3",
   "version": "3.6.3"
  }
 },
 "nbformat": 4,
 "nbformat_minor": 2
}
